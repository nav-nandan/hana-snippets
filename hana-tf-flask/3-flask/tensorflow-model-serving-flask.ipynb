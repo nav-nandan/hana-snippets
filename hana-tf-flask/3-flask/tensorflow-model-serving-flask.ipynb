{
 "cells": [
  {
   "cell_type": "code",
   "execution_count": 1,
   "metadata": {
    "collapsed": false
   },
   "outputs": [],
   "source": [
    "import pyhdb\n",
    "connection = pyhdb.connect(\n",
    "    host=\"\",\n",
    "    port=30015,\n",
    "    user=\"\",\n",
    "    password=\"\"\n",
    ")\n",
    "cursor = connection.cursor()"
   ]
  },
  {
   "cell_type": "code",
   "execution_count": 2,
   "metadata": {
    "collapsed": true
   },
   "outputs": [],
   "source": [
    "import numpy as np\n",
    "import tensorflow as tf\n",
    "\n",
    "model_path = '../2-model/model/output_graph_friends.pb'\n",
    "labels_path = '../2-model/model/output_labels_friends.txt'"
   ]
  },
  {
   "cell_type": "code",
   "execution_count": 3,
   "metadata": {
    "collapsed": true
   },
   "outputs": [],
   "source": [
    "def create_graph():\n",
    "    with tf.gfile.FastGFile(model_path, 'rb') as model_file:\n",
    "        graph_def = tf.GraphDef()\n",
    "        graph_def.ParseFromString(model_file.read())\n",
    "        _ = tf.import_graph_def(graph_def, name='')"
   ]
  },
  {
   "cell_type": "code",
   "execution_count": 4,
   "metadata": {
    "collapsed": true
   },
   "outputs": [],
   "source": [
    "def run_inference_on_image(image_data):\n",
    "    answer = None\n",
    "\n",
    "    create_graph()\n",
    "\n",
    "    with tf.Session() as tf_session:\n",
    "\n",
    "        softmax_tensor = tf_session.graph.get_tensor_by_name('final_result:0')\n",
    "        predictions = tf_session.run(softmax_tensor, {'DecodeJpeg/contents:0': image_data})\n",
    "        predictions = np.squeeze(predictions)\n",
    "\n",
    "        top_k = predictions.argsort()[-5:][::-1]\n",
    "        label_file = open(labels_path, 'rb')\n",
    "        lines = label_file.readlines()\n",
    "        labels = [str(line).replace(\"\\n\", \"\") for line in lines]\n",
    "        for node_id in top_k:\n",
    "            predicted_label = labels[node_id]\n",
    "            score = predictions[node_id]\n",
    "            print('%s (score = %.5f)' % (predicted_label, score))\n",
    "\n",
    "        answer = labels[top_k[0]]\n",
    "        return answer"
   ]
  },
  {
   "cell_type": "code",
   "execution_count": 5,
   "metadata": {
    "collapsed": false
   },
   "outputs": [],
   "source": [
    "from flask import Flask\n",
    "app = Flask(__name__)\n",
    "\n",
    "import pyhdb\n",
    "import io\n",
    "from flask import request\n",
    "from flask import send_file\n",
    "\n",
    "from flask import Flask, jsonify, request\n",
    "from io import BytesIO\n",
    "import base64\n",
    "import re\n",
    "import json\n",
    "\n",
    "@app.route('/process_image', methods=['post'])\n",
    "def process_image():\n",
    "    image_data = re.sub('^data:image/.+;base64,', '', request.form['data'])\n",
    "    predicted_label = run_inference_on_image(image_data.decode('base64'))\n",
    "    result = []\n",
    "    id = cursor.execute('select * from images_db.images_master where lower(name) like (:1)', [\"%\" + predicted_label + \"%\"]).fetchone()[0]\n",
    "    name = cursor.execute('select * from images_db.images_master where lower(name) like (:1)', [\"%\" + predicted_label + \"%\"]).fetchone()[1]\n",
    "    dob = cursor.execute('select * from images_db.images_master where lower(name) like (:1)', [\"%\" + predicted_label + \"%\"]).fetchone()[2]\n",
    "    charge = cursor.execute('select * from images_db.images_master where lower(name) like (:1)', [\"%\" + predicted_label + \"%\"]).fetchone()[3]\n",
    "    charge_date = cursor.execute('select * from images_db.images_master where lower(name) like (:1)', [\"%\" + predicted_label + \"%\"]).fetchone()[4]\n",
    "    image = cursor.execute('select * from images_db.images_master where lower(name) like (:1)', [\"%\" + predicted_label + \"%\"]).fetchone()[5].read()\n",
    "    result.append(id)\n",
    "    result.append(name)\n",
    "    result.append(dob)\n",
    "    result.append(charge)\n",
    "    result.append(charge_date)\n",
    "    result.append(image)\n",
    "    return jsonify(result)"
   ]
  },
  {
   "cell_type": "code",
   "execution_count": null,
   "metadata": {
    "collapsed": false
   },
   "outputs": [],
   "source": [
    "# http://localhost:5000/\n",
    "app.run()"
   ]
  },
  {
   "cell_type": "code",
   "execution_count": 11,
   "metadata": {
    "collapsed": true
   },
   "outputs": [],
   "source": [
    "connection.close()"
   ]
  },
  {
   "cell_type": "code",
   "execution_count": null,
   "metadata": {
    "collapsed": true
   },
   "outputs": [],
   "source": []
  }
 ],
 "metadata": {
  "kernelspec": {
   "display_name": "Python 2",
   "language": "python",
   "name": "python2"
  },
  "language_info": {
   "codemirror_mode": {
    "name": "ipython",
    "version": 2
   },
   "file_extension": ".py",
   "mimetype": "text/x-python",
   "name": "python",
   "nbconvert_exporter": "python",
   "pygments_lexer": "ipython2",
   "version": "2.7.10"
  }
 },
 "nbformat": 4,
 "nbformat_minor": 0
}
